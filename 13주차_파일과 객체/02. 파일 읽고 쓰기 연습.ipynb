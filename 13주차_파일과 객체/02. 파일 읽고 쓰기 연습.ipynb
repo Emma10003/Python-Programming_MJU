{
 "cells": [
  {
   "cell_type": "markdown",
   "id": "31478106",
   "metadata": {},
   "source": [
    "시험범위에 이 내용 정도면 충분함."
   ]
  },
  {
   "cell_type": "code",
   "execution_count": 1,
   "id": "eb9330d4",
   "metadata": {},
   "outputs": [],
   "source": [
    "# 파일 열기\n",
    "infile = open(\"E:/명지대/5학년(초과학기)/3. 파이썬프로그래밍입문/13주차_파일과 객체/실습/memo.txt\", \"r\")"
   ]
  },
  {
   "cell_type": "code",
   "execution_count": 2,
   "id": "46fc562f",
   "metadata": {},
   "outputs": [
    {
     "name": "stdout",
     "output_type": "stream",
     "text": [
      "탤 우주고양이맞짱대원\n",
      "\n",
      "켓 리듬타기요원\n",
      "\n",
      "뉴 길고양이포착요원\n",
      "\n",
      "팡 밴드음악연구소장\n",
      "\n",
      "연두 북치기요원\n",
      "\n",
      "렝 시간선관리국장\n",
      "\n",
      "감 노랑동글감자품질관리요원\n",
      "\n",
      "냠 취미수집과장\n",
      "\n"
     ]
    }
   ],
   "source": [
    "for line in infile:\n",
    "    print(line)"
   ]
  },
  {
   "cell_type": "code",
   "execution_count": 3,
   "id": "a69b0be4",
   "metadata": {},
   "outputs": [],
   "source": [
    "infile.close()"
   ]
  },
  {
   "cell_type": "code",
   "execution_count": 4,
   "id": "b6cb3a54",
   "metadata": {},
   "outputs": [],
   "source": [
    "outfile = open(\"E:/명지대/5학년(초과학기)/3. 파이썬프로그래밍입문/13주차_파일과 객체/실습/memo.txt\", \"a\")"
   ]
  },
  {
   "cell_type": "code",
   "execution_count": 6,
   "id": "2b1df018",
   "metadata": {},
   "outputs": [],
   "source": [
    "outfile.write(\"비케\\n\")\n",
    "outfile.writelines([\"핏짜\\n\", \"파도\\n\"])\n",
    "outfile.writelines(\"시안\\n\")"
   ]
  },
  {
   "cell_type": "code",
   "execution_count": 7,
   "id": "9db417b4",
   "metadata": {},
   "outputs": [],
   "source": [
    "outfile.close()"
   ]
  },
  {
   "cell_type": "code",
   "execution_count": 8,
   "id": "f5472f63",
   "metadata": {},
   "outputs": [
    {
     "name": "stdout",
     "output_type": "stream",
     "text": [
      "탤 우주고양이맞짱대원\n",
      "\n",
      "켓 리듬타기요원\n",
      "\n",
      "뉴 길고양이포착요원\n",
      "\n",
      "팡 밴드음악연구소장\n",
      "\n",
      "연두 북치기요원\n",
      "\n",
      "렝 시간선관리국장\n",
      "\n",
      "감 노랑동글감자품질관리요원\n",
      "\n",
      "냠 취미수집과장\n",
      "\n",
      "비케\n",
      "\n",
      "핏짜\n",
      "\n",
      "비케\n",
      "\n",
      "핏짜\n",
      "\n",
      "파도\n",
      "\n",
      "시안\n",
      "\n"
     ]
    }
   ],
   "source": [
    "# 파일 다시 읽기모드로 열어서 결과 확인\n",
    "infile = open(\"E:/명지대/5학년(초과학기)/3. 파이썬프로그래밍입문/13주차_파일과 객체/실습/memo.txt\", \"r\")\n",
    "for line in infile:\n",
    "    print(line)"
   ]
  },
  {
   "cell_type": "code",
   "execution_count": 9,
   "id": "afc9703c",
   "metadata": {},
   "outputs": [],
   "source": [
    "infile.close()"
   ]
  }
 ],
 "metadata": {
  "kernelspec": {
   "display_name": "tf_env",
   "language": "python",
   "name": "python3"
  },
  "language_info": {
   "codemirror_mode": {
    "name": "ipython",
    "version": 3
   },
   "file_extension": ".py",
   "mimetype": "text/x-python",
   "name": "python",
   "nbconvert_exporter": "python",
   "pygments_lexer": "ipython3",
   "version": "3.10.16"
  }
 },
 "nbformat": 4,
 "nbformat_minor": 5
}
