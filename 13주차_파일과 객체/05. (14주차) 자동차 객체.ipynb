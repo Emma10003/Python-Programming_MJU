{
 "cells": [
  {
   "cell_type": "markdown",
   "id": "4e30d8e6",
   "metadata": {},
   "source": [
    "시험범위 X"
   ]
  },
  {
   "cell_type": "code",
   "execution_count": 1,
   "id": "54cfe165",
   "metadata": {},
   "outputs": [],
   "source": [
    "import random"
   ]
  },
  {
   "cell_type": "code",
   "execution_count": 14,
   "id": "1bcda199",
   "metadata": {},
   "outputs": [],
   "source": [
    "class Car:\n",
    "    # 속성 정의\n",
    "    speed = 0\n",
    "    color = \"black\"\n",
    "    model = \"\"\n",
    "\n",
    "    # 기능 정의\n",
    "    def upSpeed(self):\n",
    "        print(\"속도를 올립니다.\")\n",
    "        self.speed += 10\n",
    "    \n",
    "    def downSpeed(self):\n",
    "        if self.speed > 10:\n",
    "            print(\"속도를 내립니다.\")\n",
    "            self.speed -= 10\n",
    "    \n",
    "    def show(self):\n",
    "        print(f\"speed: {self.speed}\", end=\",\")\n",
    "        print(f\" model: {self.model}\", end=\",\")\n",
    "        print(f\" color: {self.color}\")"
   ]
  },
  {
   "cell_type": "markdown",
   "id": "0ffbb162",
   "metadata": {},
   "source": [
    "자동차 클래스로 자동차 객체 만들고 테스트"
   ]
  },
  {
   "cell_type": "code",
   "execution_count": 15,
   "id": "63559777",
   "metadata": {},
   "outputs": [],
   "source": [
    "myCar = Car()   # 객체 만들기"
   ]
  },
  {
   "cell_type": "code",
   "execution_count": 16,
   "id": "47d6b995",
   "metadata": {},
   "outputs": [],
   "source": [
    "# 객체 속성 정의\n",
    "myCar.color = \"blue\"\n",
    "myCar.model = \"E-class\"\n",
    "myCar.speed = 10"
   ]
  },
  {
   "cell_type": "code",
   "execution_count": 17,
   "id": "a36eeebc",
   "metadata": {},
   "outputs": [
    {
     "name": "stdout",
     "output_type": "stream",
     "text": [
      "speed: 10, model: E-class, color: blue\n"
     ]
    }
   ],
   "source": [
    "myCar.show()"
   ]
  },
  {
   "cell_type": "code",
   "execution_count": 25,
   "id": "a2cd1572",
   "metadata": {},
   "outputs": [
    {
     "name": "stdout",
     "output_type": "stream",
     "text": [
      "down\n",
      "속도를 내립니다.\n",
      "speed: 30, model: E-class, color: blue\n",
      "gogo\n",
      "속도를 내립니다.\n",
      "speed: 20, model: E-class, color: blue\n",
      "go\n",
      "속도를 올립니다.\n",
      "speed: 30, model: E-class, color: blue\n",
      "go\n",
      "속도를 올립니다.\n",
      "speed: 40, model: E-class, color: blue\n",
      "go\n",
      "속도를 올립니다.\n",
      "speed: 50, model: E-class, color: blue\n",
      "그만\n"
     ]
    }
   ],
   "source": [
    "while True:\n",
    "    choice = random.choice([\"go\", \"gogo\", \"down\", \"그만\"])\n",
    "    print(choice)\n",
    "    if choice==\"그만\":\n",
    "        break\n",
    "    if choice==\"go\":\n",
    "        myCar.upSpeed()\n",
    "    else:\n",
    "        myCar.downSpeed()\n",
    "    \n",
    "    myCar.show()\n",
    "    input()   # 엔터를 누르면서 반복"
   ]
  }
 ],
 "metadata": {
  "kernelspec": {
   "display_name": "tf_env",
   "language": "python",
   "name": "python3"
  },
  "language_info": {
   "codemirror_mode": {
    "name": "ipython",
    "version": 3
   },
   "file_extension": ".py",
   "mimetype": "text/x-python",
   "name": "python",
   "nbconvert_exporter": "python",
   "pygments_lexer": "ipython3",
   "version": "3.10.16"
  }
 },
 "nbformat": 4,
 "nbformat_minor": 5
}
