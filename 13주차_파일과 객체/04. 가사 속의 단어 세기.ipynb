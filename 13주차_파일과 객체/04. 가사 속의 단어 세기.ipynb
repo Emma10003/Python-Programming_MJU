{
 "cells": [
  {
   "cell_type": "code",
   "execution_count": 1,
   "id": "3d13469c",
   "metadata": {},
   "outputs": [],
   "source": [
    "from collections import Counter\n",
    "import re"
   ]
  },
  {
   "cell_type": "code",
   "execution_count": 2,
   "id": "b36ceda6",
   "metadata": {},
   "outputs": [],
   "source": [
    "infile = open(\"E:/명지대/5학년(초과학기)/3. 파이썬프로그래밍입문/13주차_파일과 객체/실습/lyrics.txt\", \"r\")"
   ]
  },
  {
   "cell_type": "code",
   "execution_count": 3,
   "id": "dfb193c2",
   "metadata": {},
   "outputs": [
    {
     "name": "stdout",
     "output_type": "stream",
     "text": [
      "오월 하늘엔 휘파람이 분대요\n",
      "눈여겨둔 볕에 누우면\n",
      "팔베개도 스르르르\n",
      "그 애의 몸짓은 계절을 묘사해요\n",
      "자꾸만 나풀나풀대는데\n",
      "단번에 봄인 걸 알았어요\n",
      "이런 내 마음은\n",
      "부르지도 못할 노래만 잔뜩 담았네\n",
      "마땅한 할 일도 갈 곳도 모른 채로\n",
      "꼭 그렇게 서 있었네\n",
      "When I see her smile, oh, distant light\n",
      "저는요, 사랑이 아프지 않았음 해요\n",
      "기다림은 순진한 속마음\n",
      "오늘도 거리에 서 있어요\n",
      "이런 내 마음은\n",
      "부르지도 못할 노래만 잔뜩 담았네\n",
      "마땅한 할 일도 갈 곳도 모른 채로\n",
      "꼭 그렇게 서 있었네\n",
      "달아나는 빛 초록을 거머쥐고\n",
      "그 많던 내 모습 기억되리, ooh, ah\n",
      "Ah-ah-ah-ah, ah-ah-ah-ah, ah\n",
      "Ooh, ooh-ooh-ah, ah\n",
      "오월의 하늘은\n",
      "푸르던 날들로 내몰린 젊은 우리는\n",
      "영원한 사랑을 해 본 사람들처럼\n",
      "꼭 그렇게 웃어줬네\n"
     ]
    }
   ],
   "source": [
    "lyrics = infile.read()   # 한꺼번에 읽어옴\n",
    "print(lyrics)"
   ]
  },
  {
   "cell_type": "code",
   "execution_count": null,
   "id": "d5bc6ac2",
   "metadata": {},
   "outputs": [
    {
     "name": "stdout",
     "output_type": "stream",
     "text": [
      "Counter({'ah': 3, '그렇게': 3, '꼭': 3, '내': 3, '서': 3, '갈': 2, '곳도': 2, '그': 2, '노래만': 2, '담았네': 2, '마땅한': 2, '마음은': 2, '모른': 2, '못할': 2, '부르지도': 2, '이런': 2, '일도': 2, '있었네': 2, '잔뜩': 2, '채로': 2, '할': 2, 'Ah-ah-ah-ah,': 1, 'I': 1, 'Ooh,': 1, 'When': 1, 'ah-ah-ah-ah,': 1, 'distant': 1, 'her': 1, 'light': 1, 'oh,': 1, 'ooh,': 1, 'ooh-ooh-ah,': 1, 'see': 1, 'smile,': 1, '거리에': 1, '거머쥐고': 1, '걸': 1, '계절을': 1, '기다림은': 1, '기억되리,': 1, '나풀나풀대는데': 1, '날들로': 1, '내몰린': 1, '누우면': 1, '눈여겨둔': 1, '단번에': 1, '달아나는': 1, '많던': 1, '모습': 1, '몸짓은': 1, '묘사해요': 1, '볕에': 1, '본': 1, '봄인': 1, '분대요': 1, '빛': 1, '사람들처럼': 1, '사랑을': 1, '사랑이': 1, '속마음': 1, '순진한': 1, '스르르르': 1, '아프지': 1, '않았음': 1, '알았어요': 1, '애의': 1, '영원한': 1, '오늘도': 1, '오월': 1, '오월의': 1, '우리는': 1, '웃어줬네': 1, '있어요': 1, '자꾸만': 1, '저는요,': 1, '젊은': 1, '초록을': 1, '팔베개도': 1, '푸르던': 1, '하늘엔': 1, '하늘은': 1, '해': 1, '해요': 1, '휘파람이': 1})\n"
     ]
    }
   ],
   "source": [
    "# 단어 분리 및 개수 세기\n",
    "words = lyrics.split()   # 빈 칸으로 구분해서 리스트로 저장\n",
    "words.sort()   # 정렬\n",
    "word_count = Counter(words)   # Counter를 이용하여 모든 단어를 {단어:개수} 로 저장\n",
    "print(word_count)"
   ]
  },
  {
   "cell_type": "code",
   "execution_count": null,
   "id": "9b4f4761",
   "metadata": {},
   "outputs": [
    {
     "name": "stdout",
     "output_type": "stream",
     "text": [
      "가사에서 자주 등장한 단어 Top10:\n",
      "ah: 3회\n",
      "그렇게: 3회\n",
      "꼭: 3회\n",
      "내: 3회\n",
      "서: 3회\n",
      "갈: 2회\n",
      "곳도: 2회\n",
      "그: 2회\n",
      "노래만: 2회\n",
      "담았네: 2회\n"
     ]
    }
   ],
   "source": [
    "# 가장 많이 등장한 단어 Top10 출력\n",
    "print(\"가사에서 자주 등장한 단어 Top10:\")\n",
    "for word, count in word_count.most_common(10):   # 상위 top 10단어를 출력\n",
    "    print(f\"{word}: {count}회\")\n",
    "\n",
    "infile.close()   # 사용한 파일 닫기"
   ]
  }
 ],
 "metadata": {
  "kernelspec": {
   "display_name": "tf_env",
   "language": "python",
   "name": "python3"
  },
  "language_info": {
   "codemirror_mode": {
    "name": "ipython",
    "version": 3
   },
   "file_extension": ".py",
   "mimetype": "text/x-python",
   "name": "python",
   "nbconvert_exporter": "python",
   "pygments_lexer": "ipython3",
   "version": "3.10.16"
  }
 },
 "nbformat": 4,
 "nbformat_minor": 5
}
