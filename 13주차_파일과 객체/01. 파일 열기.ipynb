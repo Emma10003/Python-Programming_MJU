{
 "cells": [
  {
   "cell_type": "code",
   "execution_count": null,
   "id": "f8285305",
   "metadata": {},
   "outputs": [],
   "source": [
    "# open(): 파일을 열어 파일 객체 반환\n",
    "infile = open(\"E:/명지대/5학년(초과학기)/3. 파이썬프로그래밍입문/13주차_파일과 객체/실습/memo.txt\", encoding=\"utf-8\")"
   ]
  },
  {
   "cell_type": "markdown",
   "id": "50b60c31",
   "metadata": {},
   "source": [
    "### 파일 읽기"
   ]
  },
  {
   "cell_type": "code",
   "execution_count": null,
   "id": "3701b2bc",
   "metadata": {},
   "outputs": [],
   "source": [
    "# readlines(): 파일 내용을 한꺼번에 읽고, 한 줄씩 읽은 문자열을 리스트로 저장함.\n",
    "# 반복문이 필요 없다!\n",
    "lines = infile.readlines()\n",
    "print(lines)\n",
    "print(type(lines))\n",
    "print(lines[0])"
   ]
  },
  {
   "cell_type": "code",
   "execution_count": null,
   "id": "5348facd",
   "metadata": {},
   "outputs": [],
   "source": [
    "# readline(): 한 줄씩 줄 단위로 읽음\n",
    "memo = []\n",
    "# 반복문을 이용해서 readline()과 같은 한 줄씩 읽는 효과를 낼 수 있다.\n",
    "for line in infile:   # line이 infile 객체를 한 줄씩 읽음\n",
    "    print(line)\n",
    "    line = line.strip()   # 문자열의 양쪽 공백문자열을 지움\n",
    "    memo.append(line)   # 리스트에 읽은 내용을 추가"
   ]
  },
  {
   "cell_type": "code",
   "execution_count": null,
   "id": "4c56d6e4",
   "metadata": {},
   "outputs": [],
   "source": [
    "# close(): 사용한 파일을 닫아줌\n",
    "infile.close()"
   ]
  },
  {
   "cell_type": "markdown",
   "id": "72110a14",
   "metadata": {},
   "source": [
    "- 열었으면 반드시 닫아야 함!"
   ]
  },
  {
   "cell_type": "markdown",
   "id": "8aa48d3a",
   "metadata": {},
   "source": [
    "### 파일 쓰기"
   ]
  },
  {
   "cell_type": "code",
   "execution_count": null,
   "id": "5b784bf7",
   "metadata": {},
   "outputs": [],
   "source": [
    "# write(): 문자열을 저장\n",
    "# writelines(): 문자열 or 문자열 리스트 저장\n",
    "outfile = open(\"E:/명지대/5학년(초과학기)/3. 파이썬프로그래밍입문/13주차_파일과 객체/실습/memo.txt\", \"w\", encoding=\"utf-8\")\n",
    "outfile.write(\"비케 \\n\")\n",
    "outfile.writelines([\"핏짜\\n\", \"시안\\n\"])\n",
    "outfile.close()   # 닫기"
   ]
  },
  {
   "cell_type": "markdown",
   "id": "f4afa4e1",
   "metadata": {},
   "source": [
    "- 원래 memo의 내용이 위에 작성한 내용으로 변경됨  \n",
    ": 파일 모드가 'w'(쓰기모드)이기 때문. 파일의 처음부터 작성함. 파일이 없으면 생성됨."
   ]
  },
  {
   "cell_type": "code",
   "execution_count": 7,
   "id": "5f3ca2e7",
   "metadata": {},
   "outputs": [],
   "source": [
    "# 파일 모드 'a': 추가모드(append)\n",
    "outfile = open(\"E:/명지대/5학년(초과학기)/3. 파이썬프로그래밍입문/13주차_파일과 객체/실습/memo.txt\", \"a\", encoding=\"utf-8\")\n",
    "outfile.writelines([\"연두 북치기요원\\n\", \"렝 시간선관리국장\\n\", \"감 노랑동글감자품질관리요원\\n\", \"냠 취미수집과장\\n\"])\n",
    "outfile.close()"
   ]
  },
  {
   "cell_type": "markdown",
   "id": "c0714923",
   "metadata": {},
   "source": [
    "- 파일 모드가 'a'(추가모드)이므로 파일의 끝에 쓰고, 파일이 없으면 생성됨."
   ]
  }
 ],
 "metadata": {
  "kernelspec": {
   "display_name": "tf_env",
   "language": "python",
   "name": "python3"
  },
  "language_info": {
   "codemirror_mode": {
    "name": "ipython",
    "version": 3
   },
   "file_extension": ".py",
   "mimetype": "text/x-python",
   "name": "python",
   "nbconvert_exporter": "python",
   "pygments_lexer": "ipython3",
   "version": "3.10.16"
  }
 },
 "nbformat": 4,
 "nbformat_minor": 5
}
